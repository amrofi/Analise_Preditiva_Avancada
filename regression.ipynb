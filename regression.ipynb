{
  "nbformat": 4,
  "nbformat_minor": 0,
  "metadata": {
    "colab": {
      "name": "Untitled5.ipynb",
      "provenance": [],
      "authorship_tag": "ABX9TyPxrwWa8U2hlHNc6C5LzDhm",
      "include_colab_link": true
    },
    "kernelspec": {
      "name": "ir",
      "display_name": "R"
    }
  },
  "cells": [
    {
      "cell_type": "markdown",
      "metadata": {
        "id": "view-in-github",
        "colab_type": "text"
      },
      "source": [
        "<a href=\"https://colab.research.google.com/github/amrofi/Analise_Preditiva_Avancada/blob/master/regression.ipynb\" target=\"_parent\"><img src=\"https://colab.research.google.com/assets/colab-badge.svg\" alt=\"Open In Colab\"/></a>"
      ]
    },
    {
      "cell_type": "markdown",
      "metadata": {
        "id": "8MvYEnz854Fj"
      },
      "source": [
        "#Regressão linear¶\n",
        " \n",
        "Modelos lineares com erros distribuídos de forma independente e idêntica e para erros com heterocedasticidade ou autocorrelação. Este módulo permite a estimativa por mínimos quadrados ordinários (OLS), mínimos quadrados ponderados (WLS), mínimos quadrados generalizados (GLS) e mínimos quadrados generalizados viáveis com erros AR (p) autocorrelacionados.\n",
        " \n",
        "#Exemplos"
      ]
    },
    {
      "cell_type": "code",
      "metadata": {
        "id": "-z8svsheY3aS",
        "outputId": "53fb0c73-654f-462d-838f-abd5e457a621",
        "colab": {
          "base_uri": "https://localhost:8080/",
          "height": 164
        }
      },
      "source": [
        " # Load modules and data\n",
        "#import numpy as np\n",
        "import statsmodels.api as sm\n",
        "import pandas as pd"
      ],
      "execution_count": 9,
      "outputs": [
        {
          "output_type": "error",
          "ename": "ERROR",
          "evalue": "ignored",
          "traceback": [
            "Error in parse(text = x, srcfile = src): <text>:3:8: unexpected symbol\n2: #import numpy as np\n3: import statsmodels.api\n          ^\nTraceback:\n"
          ]
        }
      ]
    },
    {
      "cell_type": "code",
      "metadata": {
        "id": "59BMFAw67yzR"
      },
      "source": [
        " spector_data = sm.datasets.spector.load(as_pandas=False)\n",
        "spector_data.exog = sm.add_constant(spector_data.exog, prepend=False)\n",
        "\n",
        "# Fit and summarize OLS model\n",
        "mod = sm.OLS(spector_data.endog, spector_data.exog)\n",
        "res = mod.fit()\n",
        "print(res.summary())"
      ],
      "execution_count": null,
      "outputs": []
    },
    {
      "cell_type": "code",
      "metadata": {
        "id": "IeI2MVXC7lDi",
        "outputId": "3ff7841b-a270-4ff7-ea3c-6608a3e62d91",
        "colab": {
          "base_uri": "https://localhost:8080/",
          "height": 147
        }
      },
      "source": [
        " import statsmodels.api as sm\n",
        "import numpy as np\n",
        "duncan_prestige = sm.datasets.get_rdataset(\"Duncan\", \"carData\")Y = duncan_prestige.data['income']\n",
        "X = duncan_prestige.data['education']\n",
        "X = sm.add_constant(X)\n",
        "model = sm.OLS(Y,X)\n",
        "results = model.fit()\n",
        "results.params"
      ],
      "execution_count": 10,
      "outputs": [
        {
          "output_type": "error",
          "ename": "ERROR",
          "evalue": "ignored",
          "traceback": [
            "Error in parse(text = x, srcfile = src): <text>:1:9: unexpected symbol\n1:  import statsmodels.api\n            ^\nTraceback:\n"
          ]
        }
      ]
    }
  ]
}